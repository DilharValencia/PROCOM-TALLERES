{
  "nbformat": 4,
  "nbformat_minor": 0,
  "metadata": {
    "colab": {
      "provenance": []
    },
    "kernelspec": {
      "name": "python3",
      "display_name": "Python 3"
    },
    "language_info": {
      "name": "python"
    }
  },
  "cells": [
    {
      "cell_type": "markdown",
      "source": [
        "#Clase 2\n",
        "## Estructuras de selección\n",
        "\n",
        "1. Estructuras simples si (if)\n",
        "2. Estructura si (if/else)\n",
        "3. Estructuras si multiples (if/elife/else)"
      ],
      "metadata": {
        "id": "uo9yDVnELqyG"
      }
    },
    {
      "cell_type": "markdown",
      "source": [
        "## 1. Estructuras simple si"
      ],
      "metadata": {
        "id": "y3DWMwEtMJo7"
      }
    },
    {
      "cell_type": "markdown",
      "source": [
        "#2. Estructura Si/No"
      ],
      "metadata": {
        "id": "AADnXlA0PtmY"
      }
    },
    {
      "cell_type": "code",
      "execution_count": null,
      "metadata": {
        "colab": {
          "base_uri": "https://localhost:8080/"
        },
        "id": "stSmUahpLY3q",
        "outputId": "bf5f036e-17e5-4a3c-f80e-40c419196534"
      },
      "outputs": [
        {
          "output_type": "stream",
          "name": "stdout",
          "text": [
            "Ingrese un número: 50\n",
            "50  es un número negativo\n"
          ]
        }
      ],
      "source": [
        "x=int(input (\"Ingrese un número: \"))\n",
        "if x>=0:\n",
        "  print(x,\" es número es positivo\")\n",
        "else: \n",
        "  print(f\" {x} es un número negativo\")"
      ]
    },
    {
      "cell_type": "markdown",
      "source": [
        "##3. Estructura si múltiple if/elif/else"
      ],
      "metadata": {
        "id": "wZtyRTnxQToI"
      }
    },
    {
      "cell_type": "code",
      "source": [
        "x=int(input(\"Ingrese un número: \"))\n",
        "if x>0:\n",
        "  print(x,\" es número es positivo\")\n",
        "elif x==0:\n",
        "  print(str(x), \" es cero\")\n",
        "else: \n",
        "  print(f\" {x} es un número negativo\")"
      ],
      "metadata": {
        "colab": {
          "base_uri": "https://localhost:8080/"
        },
        "id": "GKJIVsskQaso",
        "outputId": "0d8fc9bf-4060-4583-e481-d353d2828de9"
      },
      "execution_count": null,
      "outputs": [
        {
          "output_type": "stream",
          "name": "stdout",
          "text": [
            "Ingrese un número: 0\n",
            "0  es cero\n"
          ]
        }
      ]
    }
  ]
}