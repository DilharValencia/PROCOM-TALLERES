{
  "nbformat": 4,
  "nbformat_minor": 0,
  "metadata": {
    "colab": {
      "provenance": [],
      "collapsed_sections": []
    },
    "kernelspec": {
      "name": "python3",
      "display_name": "Python 3"
    },
    "language_info": {
      "name": "python"
    }
  },
  "cells": [
    {
      "cell_type": "markdown",
      "source": [
        "10- \n"
      ],
      "metadata": {
        "id": "RCS2VvQ8mdxG"
      }
    },
    {
      "cell_type": "code",
      "source": [
        "n==int(input())"
      ],
      "metadata": {
        "id": "OY4JsbIsmdk-"
      },
      "execution_count": null,
      "outputs": []
    },
    {
      "cell_type": "markdown",
      "source": [
        "7- "
      ],
      "metadata": {
        "id": "zecWS7pT0cQy"
      }
    },
    {
      "cell_type": "code",
      "source": [
        "y=1\n",
        "z=0\n",
        "for i in range(1,10):\n",
        "  n=int(input(\"Ingrese un número de 1 al 10 : \"))\n",
        "  if n>=1 and n<=10 :\n",
        "    i=i-1\n",
        "    z += n*y\n",
        "    y=n\n",
        "    print(f\"{z}\")\n",
        "  else:\n",
        "    break\n",
        "    i=11\n",
        "    print(\"Ingrese valor valido\")"
      ],
      "metadata": {
        "id": "XWJXEgYLnZXf"
      },
      "execution_count": null,
      "outputs": []
    },
    {
      "cell_type": "code",
      "source": [
        "y=0\n",
        "z=1\n",
        "while n>=1 and n<=10:\n",
        "  n=int(input(\"Ingrese el número que desea multiplicar\"))\n",
        "  y+=n*z\n",
        "  print(f\"vas acumulando {y}\")"
      ],
      "metadata": {
        "id": "2Kh_8S41sOjw"
      },
      "execution_count": null,
      "outputs": []
    },
    {
      "cell_type": "code",
      "source": [
        "x=0\n",
        "i=0\n",
        "n = int(input(\"Ingrese el valor de n \"))\n",
        "while i < n:\n",
        "  i+=1\n",
        "  if i % 2==0:\n",
        "    x= x-(1/i)\n",
        "  else:\n",
        "    x= x+(1/i)\n",
        "  print(x)"
      ],
      "metadata": {
        "id": "4VuxFPcKtvee"
      },
      "execution_count": null,
      "outputs": []
    },
    {
      "cell_type": "code",
      "source": [
        "n=int(input(\"Ingrese n: \"))\n",
        "a=2\n",
        "b=1\n",
        "i=1\n",
        "while i<=n:\n",
        "  print( f\"{a}/{b}+\")\n",
        "  d=a/b\n",
        "  c=d+d\n",
        "  i=i+1\n",
        "  a=a+2\n",
        "  b=b+2\n",
        "\n",
        "print(\"Resultado: \",c)"
      ],
      "metadata": {
        "id": "zm8S2zeVzvAe",
        "outputId": "75882119-f7b9-470d-cf0a-aadffff68bd3",
        "colab": {
          "base_uri": "https://localhost:8080/"
        }
      },
      "execution_count": null,
      "outputs": [
        {
          "output_type": "stream",
          "name": "stdout",
          "text": [
            "Ingrese n: 5\n",
            "2/1+\n",
            "4/3+\n",
            "6/5+\n",
            "8/7+\n",
            "10/9+\n",
            "Resultado:  2.2222222222222223\n"
          ]
        }
      ]
    },
    {
      "cell_type": "code",
      "source": [
        "n=int(input(\"Ingrese n: \"))\n",
        "factorial=1\n",
        "if n<0:\n",
        "  print(\"No existe factorial para números negativos\")\n",
        "else:\n",
        "  if n!=0:\n",
        "    for i in range(1,n+1):\n",
        "      fatorial=factorial+i\n",
        "  print(\"Factorial: \",factorial)"
      ],
      "metadata": {
        "id": "mSMZmwFF1Dvb"
      },
      "execution_count": null,
      "outputs": []
    },
    {
      "cell_type": "code",
      "source": [],
      "metadata": {
        "id": "CAhvX9312EGA"
      },
      "execution_count": null,
      "outputs": []
    }
  ]
}