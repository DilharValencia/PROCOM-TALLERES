{
  "nbformat": 4,
  "nbformat_minor": 0,
  "metadata": {
    "colab": {
      "provenance": []
    },
    "kernelspec": {
      "name": "python3",
      "display_name": "Python 3"
    },
    "language_info": {
      "name": "python"
    }
  },
  "cells": [
    {
      "cell_type": "code",
      "execution_count": null,
      "metadata": {
        "id": "q4U-VTYDBYpU"
      },
      "outputs": [],
      "source": [
        "curso1=int(input(\"Ingrese el número de estudiantes presentes en el curso 1: \"))\n",
        "curso2=int(input(\"Ingrese el número de estudiantes presentes en el curso 2: \"))\n",
        "curso3=int(input(\"Ingrese el número de estudiantes presentes en el curso 3: \"))\n",
        "\n",
        "cursos={\"curso 1\":curso1, \"curso 2\":curso2, \"curso 3\":curso3}\n",
        "i=0\n",
        "for i in range(curso1):\n",
        "    i=i+1\n",
        "    \n",
        "print(cursos)"
      ]
    }
  ]
}