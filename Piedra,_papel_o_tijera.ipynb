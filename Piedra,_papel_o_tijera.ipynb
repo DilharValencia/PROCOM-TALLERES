{
  "nbformat": 4,
  "nbformat_minor": 0,
  "metadata": {
    "colab": {
      "provenance": []
    },
    "kernelspec": {
      "name": "python3",
      "display_name": "Python 3"
    },
    "language_info": {
      "name": "python"
    }
  },
  "cells": [
    {
      "cell_type": "code",
      "execution_count": null,
      "metadata": {
        "id": "B2nM28hXsTUm"
      },
      "outputs": [],
      "source": [
        "import random\n",
        "personajes=[\"piedra\", \"papel\", \"tijera\", \"spock\" , \"lagarto\" ]\n",
        "while True:\n",
        "    print(\"\")\n",
        "    p1= input(\"Elige piedra: piedra, papel, tijera, spock o lagarto: \").lower()\n",
        "    if p1 not in personajes:\n",
        "        print(\"No valido\")\n",
        "        continue\n",
        "    p2 = random.choice(personajes)\n",
        "    print(\"Pelas contra: \",p2)\n",
        "    if p1 == p2:\n",
        "     print(\"Empate ---\" ,p1)\n",
        "\n",
        "    elif p1 ==\"piedra\" and p2 == \"tijeras\":\n",
        "        print(\"Ganaste! ---\"+p1+\" derrota \"+p2)\n",
        "    elif p1 ==\"piedra\" and p2 == \"lagarto\":\n",
        "        print(\"Ganaste! ---\"+p1+\" derrota \"+p2)\n",
        "\n",
        "    elif p1 ==\"tijera\" and p2 == \"papel\":\n",
        "        print(\"Ganaste! ---\"+p1+\" derrota \"+p2)\n",
        "    elif p1 ==\"tijera\" and p2 == \"lagarto\":\n",
        "        print(\"Ganaste! ---\"+p1+\" derrota \"+p2)\n",
        "\n",
        "    elif p1 ==\"papel\" and p2 == \"piedra\":\n",
        "        print(\"Ganaste! ---\"+p1+\" derrota \"+p2)\n",
        "    elif p1 ==\"papel\" and p2 == \"spock\":\n",
        "        print(\"Ganaste! ---\"+p1+\" derrota \"+p2)\n",
        "\n",
        "    elif p1 ==\"spock\" and p2 == \"tijera\":\n",
        "        print(\"Ganaste! ---\"+p1+\" derrota \"+p2)\n",
        "    elif p1 ==\"spock\" and p2 == \"piedra\":\n",
        "        print(\"Ganaste! ---\"+p1+\" derrota \"+p2)\n",
        "    \n",
        "    elif p1 ==\"lagarto\" and p2 == \"spock\":\n",
        "        print(\"Ganaste! ---\"+p1+\" derrota \"+p2)\n",
        "    elif p1 ==\"lagarto\" and p2 == \"papel\":\n",
        "        print(\"Ganaste! ---\"+p1+\" derrota \"+p2)\n",
        "    \n",
        "    else:\n",
        "        print(\"Perdiste! ---\"+p2+\" derrota \"+p1)"
      ]
    }
  ]
}