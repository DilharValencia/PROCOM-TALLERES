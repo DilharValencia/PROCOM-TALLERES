{
  "nbformat": 4,
  "nbformat_minor": 0,
  "metadata": {
    "colab": {
      "provenance": []
    },
    "kernelspec": {
      "name": "python3",
      "display_name": "Python 3"
    },
    "language_info": {
      "name": "python"
    }
  },
  "cells": [
    {
      "cell_type": "markdown",
      "source": [
        "#Estructuras de repetición"
      ],
      "metadata": {
        "id": "O3S0hHoUYEpF"
      }
    },
    {
      "cell_type": "markdown",
      "source": [
        "# Estructuras de repetición para (for)\n",
        "##for i in range(ci,pasos,cf):\n",
        "\n",
        "- ci=valor inicial\n",
        "- pasos=incremento\n",
        "- cf=valor final"
      ],
      "metadata": {
        "id": "KtIF5Iw0YPxd"
      }
    },
    {
      "cell_type": "code",
      "source": [
        "#Realizar la tabla del n de 1 a 10\n",
        "n=int(input(\"Qué tabla desea generar \"))\n",
        "print(\"Tabla del \" ,n)\n",
        "for i in range (1,11):\n",
        "  t=n*i\n",
        "  print(\"-\" ,n, \"*\" ,i, \"=\" ,t)"
      ],
      "metadata": {
        "colab": {
          "base_uri": "https://localhost:8080/"
        },
        "id": "ebXQhUmJYyYj",
        "outputId": "06fea873-b712-47c6-baa1-f689361beddb"
      },
      "execution_count": null,
      "outputs": [
        {
          "output_type": "stream",
          "name": "stdout",
          "text": [
            "Qué tabla desea generar 10\n",
            "Tabla del  10\n",
            "- 10 * 1 = 10\n",
            "- 10 * 2 = 20\n",
            "- 10 * 3 = 30\n",
            "- 10 * 4 = 40\n",
            "- 10 * 5 = 50\n",
            "- 10 * 6 = 60\n",
            "- 10 * 7 = 70\n",
            "- 10 * 8 = 80\n",
            "- 10 * 9 = 90\n",
            "- 10 * 10 = 100\n"
          ]
        }
      ]
    },
    {
      "cell_type": "code",
      "source": [
        "for n in range (1,11):\n",
        "   print(\"Tabla del \" ,n)\n",
        "   for i in range(1,11):\n",
        "     t=n*1\n",
        "     print(\"-\" ,n, \"*\" ,i, \"=\" ,t)\n",
        "     print(\" \")\n",
        "\n"
      ],
      "metadata": {
        "colab": {
          "base_uri": "https://localhost:8080/"
        },
        "id": "kwfn2oDgbZOY",
        "outputId": "78f6d9d4-907a-405a-8ad2-071ebd693c65"
      },
      "execution_count": null,
      "outputs": [
        {
          "output_type": "stream",
          "name": "stdout",
          "text": [
            "Tabla del  1\n",
            "- 1 * 1 = 1\n",
            " \n",
            "- 1 * 2 = 1\n",
            " \n",
            "- 1 * 3 = 1\n",
            " \n",
            "- 1 * 4 = 1\n",
            " \n",
            "- 1 * 5 = 1\n",
            " \n",
            "- 1 * 6 = 1\n",
            " \n",
            "- 1 * 7 = 1\n",
            " \n",
            "- 1 * 8 = 1\n",
            " \n",
            "- 1 * 9 = 1\n",
            " \n",
            "- 1 * 10 = 1\n",
            " \n",
            "Tabla del  2\n",
            "- 2 * 1 = 2\n",
            " \n",
            "- 2 * 2 = 2\n",
            " \n",
            "- 2 * 3 = 2\n",
            " \n",
            "- 2 * 4 = 2\n",
            " \n",
            "- 2 * 5 = 2\n",
            " \n",
            "- 2 * 6 = 2\n",
            " \n",
            "- 2 * 7 = 2\n",
            " \n",
            "- 2 * 8 = 2\n",
            " \n",
            "- 2 * 9 = 2\n",
            " \n",
            "- 2 * 10 = 2\n",
            " \n",
            "Tabla del  3\n",
            "- 3 * 1 = 3\n",
            " \n",
            "- 3 * 2 = 3\n",
            " \n",
            "- 3 * 3 = 3\n",
            " \n",
            "- 3 * 4 = 3\n",
            " \n",
            "- 3 * 5 = 3\n",
            " \n",
            "- 3 * 6 = 3\n",
            " \n",
            "- 3 * 7 = 3\n",
            " \n",
            "- 3 * 8 = 3\n",
            " \n",
            "- 3 * 9 = 3\n",
            " \n",
            "- 3 * 10 = 3\n",
            " \n",
            "Tabla del  4\n",
            "- 4 * 1 = 4\n",
            " \n",
            "- 4 * 2 = 4\n",
            " \n",
            "- 4 * 3 = 4\n",
            " \n",
            "- 4 * 4 = 4\n",
            " \n",
            "- 4 * 5 = 4\n",
            " \n",
            "- 4 * 6 = 4\n",
            " \n",
            "- 4 * 7 = 4\n",
            " \n",
            "- 4 * 8 = 4\n",
            " \n",
            "- 4 * 9 = 4\n",
            " \n",
            "- 4 * 10 = 4\n",
            " \n",
            "Tabla del  5\n",
            "- 5 * 1 = 5\n",
            " \n",
            "- 5 * 2 = 5\n",
            " \n",
            "- 5 * 3 = 5\n",
            " \n",
            "- 5 * 4 = 5\n",
            " \n",
            "- 5 * 5 = 5\n",
            " \n",
            "- 5 * 6 = 5\n",
            " \n",
            "- 5 * 7 = 5\n",
            " \n",
            "- 5 * 8 = 5\n",
            " \n",
            "- 5 * 9 = 5\n",
            " \n",
            "- 5 * 10 = 5\n",
            " \n",
            "Tabla del  6\n",
            "- 6 * 1 = 6\n",
            " \n",
            "- 6 * 2 = 6\n",
            " \n",
            "- 6 * 3 = 6\n",
            " \n",
            "- 6 * 4 = 6\n",
            " \n",
            "- 6 * 5 = 6\n",
            " \n",
            "- 6 * 6 = 6\n",
            " \n",
            "- 6 * 7 = 6\n",
            " \n",
            "- 6 * 8 = 6\n",
            " \n",
            "- 6 * 9 = 6\n",
            " \n",
            "- 6 * 10 = 6\n",
            " \n",
            "Tabla del  7\n",
            "- 7 * 1 = 7\n",
            " \n",
            "- 7 * 2 = 7\n",
            " \n",
            "- 7 * 3 = 7\n",
            " \n",
            "- 7 * 4 = 7\n",
            " \n",
            "- 7 * 5 = 7\n",
            " \n",
            "- 7 * 6 = 7\n",
            " \n",
            "- 7 * 7 = 7\n",
            " \n",
            "- 7 * 8 = 7\n",
            " \n",
            "- 7 * 9 = 7\n",
            " \n",
            "- 7 * 10 = 7\n",
            " \n",
            "Tabla del  8\n",
            "- 8 * 1 = 8\n",
            " \n",
            "- 8 * 2 = 8\n",
            " \n",
            "- 8 * 3 = 8\n",
            " \n",
            "- 8 * 4 = 8\n",
            " \n",
            "- 8 * 5 = 8\n",
            " \n",
            "- 8 * 6 = 8\n",
            " \n",
            "- 8 * 7 = 8\n",
            " \n",
            "- 8 * 8 = 8\n",
            " \n",
            "- 8 * 9 = 8\n",
            " \n",
            "- 8 * 10 = 8\n",
            " \n",
            "Tabla del  9\n",
            "- 9 * 1 = 9\n",
            " \n",
            "- 9 * 2 = 9\n",
            " \n",
            "- 9 * 3 = 9\n",
            " \n",
            "- 9 * 4 = 9\n",
            " \n",
            "- 9 * 5 = 9\n",
            " \n",
            "- 9 * 6 = 9\n",
            " \n",
            "- 9 * 7 = 9\n",
            " \n",
            "- 9 * 8 = 9\n",
            " \n",
            "- 9 * 9 = 9\n",
            " \n",
            "- 9 * 10 = 9\n",
            " \n",
            "Tabla del  10\n",
            "- 10 * 1 = 10\n",
            " \n",
            "- 10 * 2 = 10\n",
            " \n",
            "- 10 * 3 = 10\n",
            " \n",
            "- 10 * 4 = 10\n",
            " \n",
            "- 10 * 5 = 10\n",
            " \n",
            "- 10 * 6 = 10\n",
            " \n",
            "- 10 * 7 = 10\n",
            " \n",
            "- 10 * 8 = 10\n",
            " \n",
            "- 10 * 9 = 10\n",
            " \n",
            "- 10 * 10 = 10\n",
            " \n"
          ]
        }
      ]
    },
    {
      "cell_type": "code",
      "source": [
        "p=input(\"Escriba algo\")\n",
        "for i in range (1,11,1):\n",
        "  print((p*i).center(20))"
      ],
      "metadata": {
        "colab": {
          "base_uri": "https://localhost:8080/"
        },
        "id": "Rl22HKgffaS0",
        "outputId": "bc0d6735-725a-406d-d9c5-eaeb5cd5a12c"
      },
      "execution_count": null,
      "outputs": [
        {
          "output_type": "stream",
          "name": "stdout",
          "text": [
            "Escriba algo*\n",
            "         *          \n",
            "         **         \n",
            "        ***         \n",
            "        ****        \n",
            "       *****        \n",
            "       ******       \n",
            "      *******       \n",
            "      ********      \n",
            "     *********      \n",
            "     **********     \n"
          ]
        }
      ]
    },
    {
      "cell_type": "code",
      "source": [
        "a=int(input())\n",
        "n=\"*\"\n",
        "b=a\n",
        "c=1\n",
        "for i in range (1,a):\n",
        "  print(\" \"*b,n*c)\n",
        "  b=b-1\n",
        "  c=c+2"
      ],
      "metadata": {
        "colab": {
          "base_uri": "https://localhost:8080/",
          "height": 252
        },
        "id": "G4A7jHxWj3gm",
        "outputId": "ba5ef4af-48c6-45fa-9b4f-15cc75b9a9c5"
      },
      "execution_count": null,
      "outputs": [
        {
          "name": "stdout",
          "output_type": "stream",
          "text": [
            "*\n"
          ]
        },
        {
          "output_type": "error",
          "ename": "ValueError",
          "evalue": "ignored",
          "traceback": [
            "\u001b[0;31m---------------------------------------------------------------------------\u001b[0m",
            "\u001b[0;31mValueError\u001b[0m                                Traceback (most recent call last)",
            "\u001b[0;32m<ipython-input-38-a286c7e67848>\u001b[0m in \u001b[0;36m<module>\u001b[0;34m\u001b[0m\n\u001b[0;32m----> 1\u001b[0;31m \u001b[0ma\u001b[0m\u001b[0;34m=\u001b[0m\u001b[0mint\u001b[0m\u001b[0;34m(\u001b[0m\u001b[0minput\u001b[0m\u001b[0;34m(\u001b[0m\u001b[0;34m)\u001b[0m\u001b[0;34m)\u001b[0m\u001b[0;34m\u001b[0m\u001b[0;34m\u001b[0m\u001b[0m\n\u001b[0m\u001b[1;32m      2\u001b[0m \u001b[0mn\u001b[0m\u001b[0;34m=\u001b[0m\u001b[0;34m\"*\"\u001b[0m\u001b[0;34m\u001b[0m\u001b[0;34m\u001b[0m\u001b[0m\n\u001b[1;32m      3\u001b[0m \u001b[0mb\u001b[0m\u001b[0;34m=\u001b[0m\u001b[0ma\u001b[0m\u001b[0;34m\u001b[0m\u001b[0;34m\u001b[0m\u001b[0m\n\u001b[1;32m      4\u001b[0m \u001b[0mc\u001b[0m\u001b[0;34m=\u001b[0m\u001b[0;36m1\u001b[0m\u001b[0;34m\u001b[0m\u001b[0;34m\u001b[0m\u001b[0m\n\u001b[1;32m      5\u001b[0m \u001b[0;32mfor\u001b[0m \u001b[0mi\u001b[0m \u001b[0;32min\u001b[0m \u001b[0mrange\u001b[0m \u001b[0;34m(\u001b[0m\u001b[0;36m1\u001b[0m\u001b[0;34m,\u001b[0m\u001b[0ma\u001b[0m\u001b[0;34m)\u001b[0m\u001b[0;34m:\u001b[0m\u001b[0;34m\u001b[0m\u001b[0;34m\u001b[0m\u001b[0m\n",
            "\u001b[0;31mValueError\u001b[0m: invalid literal for int() with base 10: '*'"
          ]
        }
      ]
    }
  ]
}