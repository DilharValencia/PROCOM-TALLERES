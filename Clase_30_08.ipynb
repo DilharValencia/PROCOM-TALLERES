{
  "nbformat": 4,
  "nbformat_minor": 0,
  "metadata": {
    "colab": {
      "provenance": []
    },
    "kernelspec": {
      "name": "python3",
      "display_name": "Python 3"
    },
    "language_info": {
      "name": "python"
    }
  },
  "cells": [
    {
      "cell_type": "code",
      "execution_count": null,
      "metadata": {
        "colab": {
          "base_uri": "https://localhost:8080/"
        },
        "id": "AGm8yHIdYkdK",
        "outputId": "aacbad67-b88e-4d46-a959-a8475720834d"
      },
      "outputs": [
        {
          "output_type": "stream",
          "name": "stdout",
          "text": [
            "2 5 10\n",
            "15\n",
            "5.0\n"
          ]
        }
      ],
      "source": [
        "edad=2\n",
        "Edad=5\n",
        "EDAD=10\n",
        "print(edad,Edad,EDAD)\n",
        "print(EDAD+Edad)\n",
        "print(EDAD/edad)"
      ]
    },
    {
      "cell_type": "code",
      "source": [
        "print(\"La Witsi Witsi Araña subió a su telaraña.\")\n",
        "print()\n",
        "print(\"Vino la lluvia y se la llevo\")"
      ],
      "metadata": {
        "colab": {
          "base_uri": "https://localhost:8080/"
        },
        "id": "BJFPJFs_a1n6",
        "outputId": "5d609904-cd84-44ad-dd7f-b01847d610c1"
      },
      "execution_count": null,
      "outputs": [
        {
          "output_type": "stream",
          "name": "stdout",
          "text": [
            "La Witsi Witsi Araña subió a su telaraña.\n",
            "\n",
            "Vino la lluvia y se la llevo\n"
          ]
        }
      ]
    },
    {
      "cell_type": "code",
      "source": [
        "print(\"La Witsi Witsi Araña\\nsubió a su telaraña.\\n\")\n",
        "print()\n",
        "print(\"Vino la lluvia\\nY se la llevo.\")"
      ],
      "metadata": {
        "colab": {
          "base_uri": "https://localhost:8080/"
        },
        "id": "hY5H_bOrbHgr",
        "outputId": "f17d2c66-99c2-4518-c857-5911a52c1745"
      },
      "execution_count": null,
      "outputs": [
        {
          "output_type": "stream",
          "name": "stdout",
          "text": [
            "La Witsi Witsi Araña\n",
            "subió a su telaraña.\n",
            "\n",
            "\n",
            "Vino la lluvia\n",
            "Y se la llevo.\n"
          ]
        }
      ]
    },
    {
      "cell_type": "code",
      "source": [
        "print(\"Me gusta \\\"Monty Phyton\\\"\")"
      ],
      "metadata": {
        "colab": {
          "base_uri": "https://localhost:8080/"
        },
        "id": "8ZeUv6agb05S",
        "outputId": "db51735b-d42a-4f39-f588-09ba2dbceb89"
      },
      "execution_count": null,
      "outputs": [
        {
          "output_type": "stream",
          "name": "stdout",
          "text": [
            "Me gusta \"Monty Phyton\"\n"
          ]
        }
      ]
    },
    {
      "cell_type": "code",
      "source": [
        "print('Me gusta \"Monty Phyton\"')"
      ],
      "metadata": {
        "colab": {
          "base_uri": "https://localhost:8080/"
        },
        "id": "nGchPDK1efGo",
        "outputId": "e7061f45-e96f-4318-c6ae-83322266418d"
      },
      "execution_count": null,
      "outputs": [
        {
          "output_type": "stream",
          "name": "stdout",
          "text": [
            "Me gusta \"Monty Phyton\"\n"
          ]
        }
      ]
    },
    {
      "cell_type": "code",
      "source": [
        "print(\"Mi nombre es\",\"Phyton.\")\n",
        "print(\"Monty Phyton.\")"
      ],
      "metadata": {
        "colab": {
          "base_uri": "https://localhost:8080/"
        },
        "id": "T3T3VWDyesYY",
        "outputId": "e0f0c63c-f140-45ed-ab39-b64721b70eee"
      },
      "execution_count": null,
      "outputs": [
        {
          "output_type": "stream",
          "name": "stdout",
          "text": [
            "Mi nombre es Phyton.\n",
            "Monty Phyton.\n"
          ]
        }
      ]
    },
    {
      "cell_type": "code",
      "source": [
        "print(\"Mi nombre es\",\"Phyton.\",end=\" \")\n",
        "print(\"Monty Phyton.\")"
      ],
      "metadata": {
        "colab": {
          "base_uri": "https://localhost:8080/"
        },
        "id": "4RM80BAaf5XA",
        "outputId": "0d65420a-843e-404b-cee4-b10bd77a2b71"
      },
      "execution_count": null,
      "outputs": [
        {
          "output_type": "stream",
          "name": "stdout",
          "text": [
            "Mi nombre es Phyton. Monty Phyton.\n"
          ]
        }
      ]
    },
    {
      "cell_type": "code",
      "source": [
        "#Error posicional\n",
        "print(end=\" \" \"Mi nombre es\",\"Phyton.\")\n",
        "print(\"Monty Phyton.\")"
      ],
      "metadata": {
        "id": "grF-zi5ygFXg"
      },
      "execution_count": null,
      "outputs": []
    },
    {
      "cell_type": "code",
      "source": [
        "print(\"Mi nombre es\",\"Phyton.\",sep=\"-\")\n",
        "print(\"Monty Phyton.\")"
      ],
      "metadata": {
        "colab": {
          "base_uri": "https://localhost:8080/"
        },
        "id": "Q58Jk2xNhQgn",
        "outputId": "c03a5800-aa01-43c3-f961-377c4889b3f7"
      },
      "execution_count": null,
      "outputs": [
        {
          "output_type": "stream",
          "name": "stdout",
          "text": [
            "Mi nombre es-Phyton.\n",
            "Monty Phyton.\n"
          ]
        }
      ]
    },
    {
      "cell_type": "code",
      "source": [
        "print(\"Mi\", \"nombre\",\"es\",\"Monthy\",\"Phyton\",sep=\"-\")"
      ],
      "metadata": {
        "colab": {
          "base_uri": "https://localhost:8080/"
        },
        "id": "EA0pTLLJh2AE",
        "outputId": "b517176b-4a9b-4492-caa6-9763dac64fbe"
      },
      "execution_count": null,
      "outputs": [
        {
          "output_type": "stream",
          "name": "stdout",
          "text": [
            "Mi-nombre-es-Monthy-Phyton\n"
          ]
        }
      ]
    },
    {
      "cell_type": "code",
      "source": [
        "print(\"Mi\", \"nombre\",\"es\",sep=\"_\",end=\"*\")\n",
        "print(\"Monthy\",\"Phyton\",sep=\"*\",end=\"*\\n\")"
      ],
      "metadata": {
        "colab": {
          "base_uri": "https://localhost:8080/"
        },
        "id": "C0XVeYqwiORK",
        "outputId": "c14f8539-68a6-4afd-91d9-e66a0c4f8583"
      },
      "execution_count": null,
      "outputs": [
        {
          "output_type": "stream",
          "name": "stdout",
          "text": [
            "Mi_nombre_es*Monthy*Phyton*\n"
          ]
        }
      ]
    },
    {
      "cell_type": "code",
      "source": [
        "print(\"Fundamentos\",\"Programación\",\"en\",sep=\"***\",end=\"...\")\n",
        "print(\"Phyton\")"
      ],
      "metadata": {
        "colab": {
          "base_uri": "https://localhost:8080/"
        },
        "id": "YGqT-nXSi8-h",
        "outputId": "f2d5d53b-dcb4-4bd3-8636-e546650e0140"
      },
      "execution_count": null,
      "outputs": [
        {
          "output_type": "stream",
          "name": "stdout",
          "text": [
            "Fundamentos***Programación***en...Phyton\n"
          ]
        }
      ]
    },
    {
      "cell_type": "code",
      "source": [
        "print(\"    *\\n   * *\\n  *   *\\n *     *\\n***   ***\\n  *   *\\n  *   *\\n  *****\")"
      ],
      "metadata": {
        "colab": {
          "base_uri": "https://localhost:8080/"
        },
        "id": "DcA8S5cukEqK",
        "outputId": "a59991cd-580a-4d97-9963-d2d08ffc44b9"
      },
      "execution_count": null,
      "outputs": [
        {
          "output_type": "stream",
          "name": "stdout",
          "text": [
            "    *\n",
            "   * *\n",
            "  *   *\n",
            " *     *\n",
            "***   ***\n",
            "  *   *\n",
            "  *   *\n",
            "  *****\n"
          ]
        }
      ]
    },
    {
      "cell_type": "code",
      "source": [
        "#Error de token\n",
        "print(0o128)"
      ],
      "metadata": {
        "colab": {
          "base_uri": "https://localhost:8080/"
        },
        "id": "_TRLaWjan6SR",
        "outputId": "54e68a84-8f76-4da8-cbaf-daabcb58ae5f"
      },
      "execution_count": null,
      "outputs": [
        {
          "output_type": "stream",
          "name": "stdout",
          "text": [
            "87\n"
          ]
        }
      ]
    },
    {
      "cell_type": "code",
      "source": [
        "print(0x123)"
      ],
      "metadata": {
        "colab": {
          "base_uri": "https://localhost:8080/"
        },
        "id": "Bgmrqw1koQ2A",
        "outputId": "d4e770f3-ba90-444d-abf7-14b02ef085f2"
      },
      "execution_count": null,
      "outputs": [
        {
          "output_type": "stream",
          "name": "stdout",
          "text": [
            "291\n"
          ]
        }
      ]
    },
    {
      "cell_type": "code",
      "source": [
        "num=int(input(\"ingrese el número\"))\n",
        "tipo=\"par\" if num%2 ==0 else \"impar\"\n",
        "print(tipo)"
      ],
      "metadata": {
        "colab": {
          "base_uri": "https://localhost:8080/"
        },
        "id": "Pg_QCJ9opa7s",
        "outputId": "b516aab5-b019-460e-deb5-447899acffb5"
      },
      "execution_count": null,
      "outputs": [
        {
          "output_type": "stream",
          "name": "stdout",
          "text": [
            "ingrese el número13\n",
            "impar\n"
          ]
        }
      ]
    }
  ]
}