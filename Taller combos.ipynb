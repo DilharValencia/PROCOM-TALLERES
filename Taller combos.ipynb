{
  "nbformat": 4,
  "nbformat_minor": 0,
  "metadata": {
    "colab": {
      "provenance": []
    },
    "kernelspec": {
      "name": "python3",
      "display_name": "Python 3"
    },
    "language_info": {
      "name": "python"
    }
  },
  "cells": [
    {
      "cell_type": "code",
      "execution_count": null,
      "metadata": {
        "id": "ZdGHNzGdw-zO"
      },
      "outputs": [],
      "source": [
        "Negocio={\"combo 1\":20000,\"combo 2\":25000,\"combo 3\":18000,\"combo 4\":24500,\"papas\":3000,\"jugos naturales\":7000,\"cerveza\":3500,\"agua\":4000,\"gaseosa\":2500}\n",
        "print(\"El menú a disposición es el siguiente:\\n \\n  1    Combo 1:20000 \\n  2    Combo 2:25000 \\n  3    Combo 3:18000 \\n  4    Combo 4:24500 \\n  5    papas:3000 \\n  6    Jugos naturales:7000 \\n  7    Cerveza:3500 \\n  8    Agua:4000 \\n  9    Gaseosa:2500\")\n",
        "print()\n",
        "print(\"Ingrese los productos y cantidad que desea de cada uno:\\n\")\n",
        "def pedido():\n",
        "  Cliente=input(\"¿Qué desea comprar? \").lower()\n",
        "  Cantidad=int(input(\"¿Cuantos quiere comprar? \"))\n",
        "\n",
        "\n",
        "\n",
        "\n",
        "\n",
        "\n",
        "\n",
        "\n",
        "\n",
        "pedido()"
      ]
    }
  ]
}