{
  "nbformat": 4,
  "nbformat_minor": 0,
  "metadata": {
    "colab": {
      "name": "Ejercicios",
      "provenance": []
    },
    "kernelspec": {
      "name": "python3",
      "display_name": "Python 3"
    },
    "language_info": {
      "name": "python"
    }
  },
  "cells": [
    {
      "cell_type": "code",
      "source": [
        "#1 ¿División exacta?\n",
        "x=int(input(\"Añada el primer número: \"))\n",
        "y=int(input(\"Añada el segundo número: \"))\n",
        "(x/y)\n",
        "if (x%y)== 0:\n",
        "  print(\"La división es exacta\")\n",
        "else:\n",
        "  print(\"La división no es exacta\")\n",
        "  print ( f\"El residuo es {x%y} \") "
      ],
      "metadata": {
        "colab": {
          "base_uri": "https://localhost:8080/"
        },
        "id": "tWFlLLiitxp6",
        "outputId": "049ccdb2-e734-46de-e31c-8dbbe76a38c6"
      },
      "execution_count": 55,
      "outputs": [
        {
          "output_type": "stream",
          "name": "stdout",
          "text": [
            "Añada el primer número: 20\n",
            "Añada el segundo número: 9\n",
            "La división no es exacta\n",
            "El residuo es 2 \n"
          ]
        }
      ]
    },
    {
      "cell_type": "code",
      "execution_count": 49,
      "metadata": {
        "colab": {
          "base_uri": "https://localhost:8080/"
        },
        "id": "1RKo0nnmn5Qf",
        "outputId": "c774a813-7ae4-45c0-e5a3-eaffcfd35fd2"
      },
      "outputs": [
        {
          "output_type": "stream",
          "name": "stdout",
          "text": [
            "Añada el primer número: 10\n",
            "Añada el segundo número: 0\n",
            "El único multiplo de cero es cero\n"
          ]
        }
      ],
      "source": [
        "#2 Números multiplos\n",
        "x=int(input(\"Añada el primer número: \"))\n",
        "y=int(input(\"Añada el segundo número: \"))\n",
        "if x==0 or y==0:\n",
        "  print (\"El único multiplo de cero es cero\")\n",
        "elif (x%y)== 0:\n",
        "  print(\"Los números son multiplos\")\n",
        "else:\n",
        "  print(\"Los números no son multiplos\")\n"
      ]
    }
  ]
}